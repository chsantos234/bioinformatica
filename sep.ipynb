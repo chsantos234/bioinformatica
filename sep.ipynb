{
 "cells": [
  {
   "cell_type": "markdown",
   "metadata": {},
   "source": [
    "### Enumerate for loop:\n",
    "\n",
    "* item[0] - index\n",
    "\n",
    "* item[1] - header or sequence\n",
    "\n",
    "* if item[0]%4 == 0: item[1] is another file header (switch file)\n",
    "\n",
    "* if item[0]%4 != 0: item[1] is a header/sequence from the same file (continue to write in file)\n",
    "\n",
    "### R1 R2 Fastq separation function:"
   ]
  },
  {
   "cell_type": "code",
   "execution_count": 55,
   "metadata": {},
   "outputs": [],
   "source": [
    "def fastqSep(inputfile:str) -> dict:\n",
    "\n",
    "    # create output files \n",
    "    file = inputfile.replace(\".txt\",\"\")\n",
    "\n",
    "    file_names = {\"file1\":f\"{file}_1.txt\",\"file2\":f\"{file}_2.txt\"}\n",
    "\n",
    "    file1 = open(file_names[\"file1\"], 'w')\n",
    "    file2 = open(file_names[\"file2\"], 'w')\n",
    "\n",
    "    # read original fastq file\n",
    "    with open(inputfile, \"r\") as seqfile:\n",
    "        R = False\n",
    "\n",
    "        # iterate over fastq file items (lines)\n",
    "        for item in enumerate(seqfile):\n",
    "\n",
    "            # change output file when necessary\n",
    "            if item[0]%4 == 0: R = not R\n",
    "\n",
    "            # write in file\n",
    "            file1.write(item[1]) if R == True else file2.write(item[1])\n",
    "            \n",
    "    # close operations in created files\n",
    "    file1.close()\n",
    "    file2.close()\n",
    "\n",
    "    return file_names"
   ]
  },
  {
   "cell_type": "markdown",
   "metadata": {},
   "source": [
    "### Execution:"
   ]
  },
  {
   "cell_type": "code",
   "execution_count": null,
   "metadata": {},
   "outputs": [],
   "source": [
    "file = \"fastq txt file name\"\n",
    "file_names = fastqSep(file)"
   ]
  },
  {
   "cell_type": "markdown",
   "metadata": {},
   "source": [
    "## Tests"
   ]
  },
  {
   "cell_type": "code",
   "execution_count": null,
   "metadata": {},
   "outputs": [],
   "source": [
    "with open(file_names[\"file1\"], \"r\") as seqfile:\n",
    "    n = 0\n",
    "    for item in seqfile:\n",
    "        print(item)\n",
    "        n+=1\n",
    "        if n == 14: break\n"
   ]
  },
  {
   "cell_type": "code",
   "execution_count": null,
   "metadata": {},
   "outputs": [],
   "source": [
    "with open(file_names[\"file2\"], \"r\") as seqfile:\n",
    "    n = 0\n",
    "    for item in seqfile:\n",
    "        print(item)\n",
    "        n+=1\n",
    "        if n == 14: break\n"
   ]
  }
 ],
 "metadata": {
  "kernelspec": {
   "display_name": "Python 3",
   "language": "python",
   "name": "python3"
  },
  "language_info": {
   "codemirror_mode": {
    "name": "ipython",
    "version": 3
   },
   "file_extension": ".py",
   "mimetype": "text/x-python",
   "name": "python",
   "nbconvert_exporter": "python",
   "pygments_lexer": "ipython3",
   "version": "3.12.3"
  }
 },
 "nbformat": 4,
 "nbformat_minor": 2
}
